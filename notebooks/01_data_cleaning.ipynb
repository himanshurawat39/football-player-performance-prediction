{
 "cells": [
  {
   "cell_type": "markdown",
   "id": "4c088cf9",
   "metadata": {},
   "source": [
    "## Loading the Dataset"
   ]
  },
  {
   "cell_type": "code",
   "execution_count": 175,
   "id": "4c223ae6",
   "metadata": {},
   "outputs": [
    {
     "data": {
      "text/html": [
       "<div>\n",
       "<style scoped>\n",
       "    .dataframe tbody tr th:only-of-type {\n",
       "        vertical-align: middle;\n",
       "    }\n",
       "\n",
       "    .dataframe tbody tr th {\n",
       "        vertical-align: top;\n",
       "    }\n",
       "\n",
       "    .dataframe thead th {\n",
       "        text-align: right;\n",
       "    }\n",
       "</style>\n",
       "<table border=\"1\" class=\"dataframe\">\n",
       "  <thead>\n",
       "    <tr style=\"text-align: right;\">\n",
       "      <th></th>\n",
       "      <th>sofifa_id</th>\n",
       "      <th>player_url</th>\n",
       "      <th>short_name</th>\n",
       "      <th>long_name</th>\n",
       "      <th>age</th>\n",
       "      <th>dob</th>\n",
       "      <th>height_cm</th>\n",
       "      <th>weight_kg</th>\n",
       "      <th>nationality</th>\n",
       "      <th>club_name</th>\n",
       "      <th>...</th>\n",
       "      <th>lwb</th>\n",
       "      <th>ldm</th>\n",
       "      <th>cdm</th>\n",
       "      <th>rdm</th>\n",
       "      <th>rwb</th>\n",
       "      <th>lb</th>\n",
       "      <th>lcb</th>\n",
       "      <th>cb</th>\n",
       "      <th>rcb</th>\n",
       "      <th>rb</th>\n",
       "    </tr>\n",
       "  </thead>\n",
       "  <tbody>\n",
       "    <tr>\n",
       "      <th>0</th>\n",
       "      <td>158023</td>\n",
       "      <td>https://sofifa.com/player/158023/lionel-messi/...</td>\n",
       "      <td>L. Messi</td>\n",
       "      <td>Lionel Andrés Messi Cuccittini</td>\n",
       "      <td>33</td>\n",
       "      <td>1987-06-24</td>\n",
       "      <td>170</td>\n",
       "      <td>72</td>\n",
       "      <td>Argentina</td>\n",
       "      <td>FC Barcelona</td>\n",
       "      <td>...</td>\n",
       "      <td>66+3</td>\n",
       "      <td>65+3</td>\n",
       "      <td>65+3</td>\n",
       "      <td>65+3</td>\n",
       "      <td>66+3</td>\n",
       "      <td>62+3</td>\n",
       "      <td>52+3</td>\n",
       "      <td>52+3</td>\n",
       "      <td>52+3</td>\n",
       "      <td>62+3</td>\n",
       "    </tr>\n",
       "    <tr>\n",
       "      <th>1</th>\n",
       "      <td>20801</td>\n",
       "      <td>https://sofifa.com/player/20801/c-ronaldo-dos-...</td>\n",
       "      <td>Cristiano Ronaldo</td>\n",
       "      <td>Cristiano Ronaldo dos Santos Aveiro</td>\n",
       "      <td>35</td>\n",
       "      <td>1985-02-05</td>\n",
       "      <td>187</td>\n",
       "      <td>83</td>\n",
       "      <td>Portugal</td>\n",
       "      <td>Juventus</td>\n",
       "      <td>...</td>\n",
       "      <td>65+3</td>\n",
       "      <td>61+3</td>\n",
       "      <td>61+3</td>\n",
       "      <td>61+3</td>\n",
       "      <td>65+3</td>\n",
       "      <td>61+3</td>\n",
       "      <td>54+3</td>\n",
       "      <td>54+3</td>\n",
       "      <td>54+3</td>\n",
       "      <td>61+3</td>\n",
       "    </tr>\n",
       "    <tr>\n",
       "      <th>2</th>\n",
       "      <td>200389</td>\n",
       "      <td>https://sofifa.com/player/200389/jan-oblak/210002</td>\n",
       "      <td>J. Oblak</td>\n",
       "      <td>Jan Oblak</td>\n",
       "      <td>27</td>\n",
       "      <td>1993-01-07</td>\n",
       "      <td>188</td>\n",
       "      <td>87</td>\n",
       "      <td>Slovenia</td>\n",
       "      <td>Atlético Madrid</td>\n",
       "      <td>...</td>\n",
       "      <td>32+3</td>\n",
       "      <td>36+3</td>\n",
       "      <td>36+3</td>\n",
       "      <td>36+3</td>\n",
       "      <td>32+3</td>\n",
       "      <td>32+3</td>\n",
       "      <td>33+3</td>\n",
       "      <td>33+3</td>\n",
       "      <td>33+3</td>\n",
       "      <td>32+3</td>\n",
       "    </tr>\n",
       "    <tr>\n",
       "      <th>3</th>\n",
       "      <td>188545</td>\n",
       "      <td>https://sofifa.com/player/188545/robert-lewand...</td>\n",
       "      <td>R. Lewandowski</td>\n",
       "      <td>Robert Lewandowski</td>\n",
       "      <td>31</td>\n",
       "      <td>1988-08-21</td>\n",
       "      <td>184</td>\n",
       "      <td>80</td>\n",
       "      <td>Poland</td>\n",
       "      <td>FC Bayern München</td>\n",
       "      <td>...</td>\n",
       "      <td>64+3</td>\n",
       "      <td>65+3</td>\n",
       "      <td>65+3</td>\n",
       "      <td>65+3</td>\n",
       "      <td>64+3</td>\n",
       "      <td>61+3</td>\n",
       "      <td>60+3</td>\n",
       "      <td>60+3</td>\n",
       "      <td>60+3</td>\n",
       "      <td>61+3</td>\n",
       "    </tr>\n",
       "    <tr>\n",
       "      <th>4</th>\n",
       "      <td>190871</td>\n",
       "      <td>https://sofifa.com/player/190871/neymar-da-sil...</td>\n",
       "      <td>Neymar Jr</td>\n",
       "      <td>Neymar da Silva Santos Júnior</td>\n",
       "      <td>28</td>\n",
       "      <td>1992-02-05</td>\n",
       "      <td>175</td>\n",
       "      <td>68</td>\n",
       "      <td>Brazil</td>\n",
       "      <td>Paris Saint-Germain</td>\n",
       "      <td>...</td>\n",
       "      <td>67+3</td>\n",
       "      <td>62+3</td>\n",
       "      <td>62+3</td>\n",
       "      <td>62+3</td>\n",
       "      <td>67+3</td>\n",
       "      <td>62+3</td>\n",
       "      <td>49+3</td>\n",
       "      <td>49+3</td>\n",
       "      <td>49+3</td>\n",
       "      <td>62+3</td>\n",
       "    </tr>\n",
       "  </tbody>\n",
       "</table>\n",
       "<p>5 rows × 106 columns</p>\n",
       "</div>"
      ],
      "text/plain": [
       "   sofifa_id                                         player_url  \\\n",
       "0     158023  https://sofifa.com/player/158023/lionel-messi/...   \n",
       "1      20801  https://sofifa.com/player/20801/c-ronaldo-dos-...   \n",
       "2     200389  https://sofifa.com/player/200389/jan-oblak/210002   \n",
       "3     188545  https://sofifa.com/player/188545/robert-lewand...   \n",
       "4     190871  https://sofifa.com/player/190871/neymar-da-sil...   \n",
       "\n",
       "          short_name                            long_name  age         dob  \\\n",
       "0           L. Messi       Lionel Andrés Messi Cuccittini   33  1987-06-24   \n",
       "1  Cristiano Ronaldo  Cristiano Ronaldo dos Santos Aveiro   35  1985-02-05   \n",
       "2           J. Oblak                            Jan Oblak   27  1993-01-07   \n",
       "3     R. Lewandowski                   Robert Lewandowski   31  1988-08-21   \n",
       "4          Neymar Jr        Neymar da Silva Santos Júnior   28  1992-02-05   \n",
       "\n",
       "   height_cm  weight_kg nationality            club_name  ...   lwb   ldm  \\\n",
       "0        170         72   Argentina         FC Barcelona  ...  66+3  65+3   \n",
       "1        187         83    Portugal             Juventus  ...  65+3  61+3   \n",
       "2        188         87    Slovenia      Atlético Madrid  ...  32+3  36+3   \n",
       "3        184         80      Poland    FC Bayern München  ...  64+3  65+3   \n",
       "4        175         68      Brazil  Paris Saint-Germain  ...  67+3  62+3   \n",
       "\n",
       "    cdm   rdm   rwb    lb   lcb    cb   rcb    rb  \n",
       "0  65+3  65+3  66+3  62+3  52+3  52+3  52+3  62+3  \n",
       "1  61+3  61+3  65+3  61+3  54+3  54+3  54+3  61+3  \n",
       "2  36+3  36+3  32+3  32+3  33+3  33+3  33+3  32+3  \n",
       "3  65+3  65+3  64+3  61+3  60+3  60+3  60+3  61+3  \n",
       "4  62+3  62+3  67+3  62+3  49+3  49+3  49+3  62+3  \n",
       "\n",
       "[5 rows x 106 columns]"
      ]
     },
     "execution_count": 175,
     "metadata": {},
     "output_type": "execute_result"
    }
   ],
   "source": [
    "# Import Libraries\n",
    "import pandas as pd\n",
    "import numpy as np\n",
    "\n",
    "# Load Data\n",
    "df = pd.read_csv(\"D:/Data Science Projects/Player Performance Prediction/data/raw/players_21.csv\")\n",
    "\n",
    "df.head()"
   ]
  },
  {
   "cell_type": "markdown",
   "id": "7aaa0e06",
   "metadata": {},
   "source": [
    "### Basic Inspection"
   ]
  },
  {
   "cell_type": "code",
   "execution_count": 176,
   "id": "bb40283e",
   "metadata": {},
   "outputs": [
    {
     "name": "stdout",
     "output_type": "stream",
     "text": [
      "<class 'pandas.core.frame.DataFrame'>\n",
      "RangeIndex: 18944 entries, 0 to 18943\n",
      "Columns: 106 entries, sofifa_id to rb\n",
      "dtypes: float64(18), int64(44), object(44)\n",
      "memory usage: 15.3+ MB\n"
     ]
    },
    {
     "data": {
      "text/plain": [
       "Index(['sofifa_id', 'player_url', 'short_name', 'long_name', 'age', 'dob',\n",
       "       'height_cm', 'weight_kg', 'nationality', 'club_name',\n",
       "       ...\n",
       "       'lwb', 'ldm', 'cdm', 'rdm', 'rwb', 'lb', 'lcb', 'cb', 'rcb', 'rb'],\n",
       "      dtype='object', length=106)"
      ]
     },
     "execution_count": 176,
     "metadata": {},
     "output_type": "execute_result"
    }
   ],
   "source": [
    "df.info()\n",
    "df.describe()\n",
    "df.columns"
   ]
  },
  {
   "cell_type": "markdown",
   "id": "912b1124",
   "metadata": {},
   "source": [
    "#### What we are looking for:\n",
    "1. Duplicate Rows\n",
    "2. Too many missing values\n",
    "3. Useless columns\n",
    "4. Data types to convert\n",
    "5. Repeated or similar values"
   ]
  },
  {
   "cell_type": "code",
   "execution_count": 177,
   "id": "93a2aa4c",
   "metadata": {},
   "outputs": [],
   "source": [
    "# Remove Useless Columns\n",
    "columns_to_drop = ['sofifa_id', 'player_url', 'long_name', 'dob', 'real_face', 'body_type']\n",
    "df.drop(columns=columns_to_drop, inplace=True)"
   ]
  },
  {
   "cell_type": "code",
   "execution_count": null,
   "id": "64206cb3",
   "metadata": {},
   "outputs": [
    {
     "data": {
      "text/plain": [
       "defending_marking       18944\n",
       "loaned_from             18186\n",
       "nation_jersey_number    17817\n",
       "nation_position         17817\n",
       "player_tags             17536\n",
       "                        ...  \n",
       "lb                          0\n",
       "lcb                         0\n",
       "cb                          0\n",
       "rcb                         0\n",
       "rb                          0\n",
       "Length: 100, dtype: int64"
      ]
     },
     "execution_count": 178,
     "metadata": {},
     "output_type": "execute_result"
    }
   ],
   "source": [
    "# Checking for missing values\n",
    "df.isnull().sum().sort_values(ascending=False)"
   ]
  },
  {
   "cell_type": "code",
   "execution_count": 180,
   "id": "cf3381cf",
   "metadata": {},
   "outputs": [],
   "source": [
    "# Drop columns with too many missing values\n",
    "df.drop(columns=['release_clause_eur', 'loaned_from'])\n",
    "df = df.dropna(subset=['club_name'])\n",
    "\n",
    "# Fill missing values with zero\n",
    "df['wage_eur'] = df['wage_eur'].fillna(0)\n",
    "df['value_eur'] = df['value_eur'].fillna(0)"
   ]
  },
  {
   "cell_type": "code",
   "execution_count": 181,
   "id": "d001b038",
   "metadata": {},
   "outputs": [],
   "source": [
    "# Filter Out Goalkeepers\n",
    "df = df[~df['player_positions'].str.startswith('GK')]"
   ]
  },
  {
   "cell_type": "markdown",
   "id": "36ac7319",
   "metadata": {},
   "source": [
    "## Selecting Relevant Features"
   ]
  },
  {
   "cell_type": "code",
   "execution_count": 182,
   "id": "ae365927",
   "metadata": {},
   "outputs": [],
   "source": [
    "columns_to_keep = [\n",
    "    'short_name', 'age', 'height_cm', 'weight_kg', 'value_eur', 'wage_eur',\n",
    "    'international_reputation', 'weak_foot', 'skill_moves',\n",
    "    'pace', 'shooting', 'passing', 'dribbling', 'defending', 'physic',\n",
    "    'attacking_finishing', 'attacking_short_passing', 'mentality_vision',\n",
    "    'movement_reactions', 'power_shot_power',\n",
    "    'overall', 'potential', 'player_positions'\n",
    "]\n",
    "\n",
    "df = df[columns_to_keep]"
   ]
  },
  {
   "cell_type": "markdown",
   "id": "cf1d43f8",
   "metadata": {},
   "source": [
    "## Checking Duplicates and Data Types"
   ]
  },
  {
   "cell_type": "code",
   "execution_count": 183,
   "id": "8871c0c5",
   "metadata": {},
   "outputs": [
    {
     "data": {
      "text/plain": [
       "np.int64(0)"
      ]
     },
     "execution_count": 183,
     "metadata": {},
     "output_type": "execute_result"
    }
   ],
   "source": [
    "df.duplicated().sum()"
   ]
  },
  {
   "cell_type": "code",
   "execution_count": 184,
   "id": "a5049c57",
   "metadata": {},
   "outputs": [
    {
     "name": "stdout",
     "output_type": "stream",
     "text": [
      "<class 'pandas.core.frame.DataFrame'>\n",
      "Index: 16665 entries, 0 to 18943\n",
      "Data columns (total 23 columns):\n",
      " #   Column                    Non-Null Count  Dtype  \n",
      "---  ------                    --------------  -----  \n",
      " 0   short_name                16665 non-null  object \n",
      " 1   age                       16665 non-null  int64  \n",
      " 2   height_cm                 16665 non-null  int64  \n",
      " 3   weight_kg                 16665 non-null  int64  \n",
      " 4   value_eur                 16665 non-null  int64  \n",
      " 5   wage_eur                  16665 non-null  int64  \n",
      " 6   international_reputation  16665 non-null  int64  \n",
      " 7   weak_foot                 16665 non-null  int64  \n",
      " 8   skill_moves               16665 non-null  int64  \n",
      " 9   pace                      16665 non-null  float64\n",
      " 10  shooting                  16665 non-null  float64\n",
      " 11  passing                   16665 non-null  float64\n",
      " 12  dribbling                 16665 non-null  float64\n",
      " 13  defending                 16665 non-null  float64\n",
      " 14  physic                    16665 non-null  float64\n",
      " 15  attacking_finishing       16665 non-null  int64  \n",
      " 16  attacking_short_passing   16665 non-null  int64  \n",
      " 17  mentality_vision          16665 non-null  int64  \n",
      " 18  movement_reactions        16665 non-null  int64  \n",
      " 19  power_shot_power          16665 non-null  int64  \n",
      " 20  overall                   16665 non-null  int64  \n",
      " 21  potential                 16665 non-null  int64  \n",
      " 22  player_positions          16665 non-null  object \n",
      "dtypes: float64(6), int64(15), object(2)\n",
      "memory usage: 3.1+ MB\n"
     ]
    }
   ],
   "source": [
    "df.info()"
   ]
  },
  {
   "cell_type": "code",
   "execution_count": 185,
   "id": "b53b6b3e",
   "metadata": {},
   "outputs": [],
   "source": [
    "# Save Cleaned Dataset\n",
    "df.to_csv(\"D:/Data Science Projects/Player Performance Prediction/data/processed/fifa_cleaned.csv\")"
   ]
  },
  {
   "cell_type": "code",
   "execution_count": null,
   "id": "661151e6",
   "metadata": {},
   "outputs": [],
   "source": []
  }
 ],
 "metadata": {
  "kernelspec": {
   "display_name": "Python 3",
   "language": "python",
   "name": "python3"
  },
  "language_info": {
   "codemirror_mode": {
    "name": "ipython",
    "version": 3
   },
   "file_extension": ".py",
   "mimetype": "text/x-python",
   "name": "python",
   "nbconvert_exporter": "python",
   "pygments_lexer": "ipython3",
   "version": "3.13.1"
  }
 },
 "nbformat": 4,
 "nbformat_minor": 5
}
